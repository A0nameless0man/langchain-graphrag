{
 "cells": [
  {
   "cell_type": "markdown",
   "metadata": {},
   "source": [
    "# Text Units Extraction"
   ]
  },
  {
   "cell_type": "code",
   "execution_count": 1,
   "metadata": {},
   "outputs": [],
   "source": [
    "from langchain_core.documents import Document\n",
    "\n",
    "from langchain_graphrag.indexing import TextUnitExtractor\n"
   ]
  },
  {
   "cell_type": "markdown",
   "metadata": {},
   "source": [
    "Below is some random text that we will use to make a `langchain` [Document](https://api.python.langchain.com/en/latest/documents/langchain_core.documents.base.Document.html#langchain_core.documents.base.Document)."
   ]
  },
  {
   "cell_type": "code",
   "execution_count": 2,
   "metadata": {},
   "outputs": [],
   "source": [
    "SOME_TEXT = \"\"\"\n",
    "Contrary to popular belief, Lorem Ipsum is not simply random text. \n",
    "It has roots in a piece of classical Latin literature from 45 BC, \n",
    "making it over 2000 years old. Richard McClintock, a Latin professor \n",
    "at Hampden-Sydney College in Virginia, looked up one of the more obscure Latin words,\n",
    "consectetur, from a Lorem Ipsum passage, and going through the cites of the word in \n",
    "classical literature, discovered the undoubtable source. Lorem Ipsum comes \n",
    "from sections 1.10.32 and 1.10.33 of \"de Finibus Bonorum et Malorum\" \n",
    "(The Extremes of Good and Evil) by Cicero, written in 45 BC. This book is a \n",
    "treatise on the theory of ethics, very popular during the Renaissance. \n",
    "The first line of Lorem Ipsum, \"Lorem ipsum dolor sit amet..\", \n",
    "comes from a line in section 1.10.32.\n",
    "\n",
    "The standard chunk of Lorem Ipsum used since the 1500s is reproduced below \n",
    "for those interested. Sections 1.10.32 and 1.10.33 from \"de Finibus Bonorum et \n",
    "Malorum\" by Cicero are also reproduced in their exact original form, accompanied\n",
    "by English versions from the 1914 translation by H. Rackham.\n",
    "\"\"\"\n",
    "\n",
    "document = Document(page_content=SOME_TEXT)"
   ]
  },
  {
   "cell_type": "markdown",
   "metadata": {},
   "source": [
    "`TextUnitExtractor` requirs you to supply a TextSplitter.\n",
    "\n",
    "See all available splitters from [langchain_text_splitters](https://api.python.langchain.com/en/latest/text_splitters_api_reference.html) and of course you can write your own splitter.\n",
    "\n",
    "In this example, we are going to use the simplest of them - [CharacterTextSplitter](https://api.python.langchain.com/en/latest/character/langchain_text_splitters.character.CharacterTextSplitter.html#langchain_text_splitters.character.CharacterTextSplitter)."
   ]
  },
  {
   "cell_type": "code",
   "execution_count": 3,
   "metadata": {},
   "outputs": [],
   "source": [
    "from langchain_text_splitters import CharacterTextSplitter"
   ]
  },
  {
   "cell_type": "code",
   "execution_count": 4,
   "metadata": {},
   "outputs": [],
   "source": [
    "splitter = CharacterTextSplitter(chunk_size=512, chunk_overlap=64)\n",
    "\n",
    "text_unit_extractor = TextUnitExtractor(text_splitter=splitter)"
   ]
  },
  {
   "cell_type": "markdown",
   "metadata": {},
   "source": [
    "And now we run it, the run method takes the list of the documents and returns\n",
    "a pandas DataFrame object."
   ]
  },
  {
   "cell_type": "code",
   "execution_count": 5,
   "metadata": {},
   "outputs": [
    {
     "name": "stderr",
     "output_type": "stream",
     "text": [
      "Processing documents ...:   0%|          | 0/1 [00:00<?, ?it/s]Created a chunk of size 773, which is longer than the specified 512\n",
      "Extracting text units ...: 100%|██████████| 2/2 [00:00<00:00, 14438.22it/s]\n",
      "Processing documents ...: 100%|██████████| 1/1 [00:00<00:00, 347.30it/s]\n"
     ]
    },
    {
     "data": {
      "text/html": [
       "<div>\n",
       "<style scoped>\n",
       "    .dataframe tbody tr th:only-of-type {\n",
       "        vertical-align: middle;\n",
       "    }\n",
       "\n",
       "    .dataframe tbody tr th {\n",
       "        vertical-align: top;\n",
       "    }\n",
       "\n",
       "    .dataframe thead th {\n",
       "        text-align: right;\n",
       "    }\n",
       "</style>\n",
       "<table border=\"1\" class=\"dataframe\">\n",
       "  <thead>\n",
       "    <tr style=\"text-align: right;\">\n",
       "      <th></th>\n",
       "      <th>document_id</th>\n",
       "      <th>id</th>\n",
       "      <th>text</th>\n",
       "    </tr>\n",
       "  </thead>\n",
       "  <tbody>\n",
       "    <tr>\n",
       "      <th>0</th>\n",
       "      <td>5ef8593d-e6c6-48f6-abf6-284431c25c9e</td>\n",
       "      <td>6dee5bca-0320-4560-9794-b0f5bb77c73a</td>\n",
       "      <td>Contrary to popular belief, Lorem Ipsum is not...</td>\n",
       "    </tr>\n",
       "    <tr>\n",
       "      <th>1</th>\n",
       "      <td>5ef8593d-e6c6-48f6-abf6-284431c25c9e</td>\n",
       "      <td>87f308f0-f2fd-4d39-8bf2-1a8094f7fed9</td>\n",
       "      <td>The standard chunk of Lorem Ipsum used since t...</td>\n",
       "    </tr>\n",
       "  </tbody>\n",
       "</table>\n",
       "</div>"
      ],
      "text/plain": [
       "                            document_id                                    id  \\\n",
       "0  5ef8593d-e6c6-48f6-abf6-284431c25c9e  6dee5bca-0320-4560-9794-b0f5bb77c73a   \n",
       "1  5ef8593d-e6c6-48f6-abf6-284431c25c9e  87f308f0-f2fd-4d39-8bf2-1a8094f7fed9   \n",
       "\n",
       "                                                text  \n",
       "0  Contrary to popular belief, Lorem Ipsum is not...  \n",
       "1  The standard chunk of Lorem Ipsum used since t...  "
      ]
     },
     "execution_count": 5,
     "metadata": {},
     "output_type": "execute_result"
    }
   ],
   "source": [
    "df_text_units = text_unit_extractor.run([document])\n",
    "\n",
    "df_text_units.head()"
   ]
  },
  {
   "cell_type": "markdown",
   "metadata": {},
   "source": [
    "As you can see above, this dataframe has three columns, `document_id`, `id`, and `text`.\n",
    "\n",
    "Since our document was not very big, given our `chunk_size` we only have two text units.\n",
    "\n",
    "Every text_unit gets a unique id that would be used in other components."
   ]
  }
 ],
 "metadata": {
  "kernelspec": {
   "display_name": ".venv",
   "language": "python",
   "name": "python3"
  },
  "language_info": {
   "codemirror_mode": {
    "name": "ipython",
    "version": 3
   },
   "file_extension": ".py",
   "mimetype": "text/x-python",
   "name": "python",
   "nbconvert_exporter": "python",
   "pygments_lexer": "ipython3",
   "version": "3.10.14"
  }
 },
 "nbformat": 4,
 "nbformat_minor": 2
}
